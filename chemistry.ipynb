{
 "cells": [
  {
   "cell_type": "code",
   "execution_count": 1,
   "metadata": {},
   "outputs": [
    {
     "name": "stdout",
     "output_type": "stream",
     "text": [
      "Requirement already satisfied: biopython in c:\\users\\microsoft\\anaconda3\\lib\\site-packages (1.79)\n",
      "Requirement already satisfied: numpy in c:\\users\\microsoft\\anaconda3\\lib\\site-packages (from biopython) (1.16.5)\n",
      "Note: you may need to restart the kernel to use updated packages.\n"
     ]
    }
   ],
   "source": [
    "pip install biopython"
   ]
  },
  {
   "cell_type": "code",
   "execution_count": 2,
   "metadata": {},
   "outputs": [
    {
     "name": "stdout",
     "output_type": "stream",
     "text": [
      "Requirement already satisfied: pyopenms in c:\\users\\microsoft\\anaconda3\\lib\\site-packages (2.7.0)\n",
      "Requirement already satisfied: numpy in c:\\users\\microsoft\\anaconda3\\lib\\site-packages (from pyopenms) (1.16.5)\n",
      "Note: you may need to restart the kernel to use updated packages.\n"
     ]
    }
   ],
   "source": [
    "pip install pyopenms"
   ]
  },
  {
   "cell_type": "code",
   "execution_count": 3,
   "metadata": {},
   "outputs": [],
   "source": [
    "import pyopenms"
   ]
  },
  {
   "cell_type": "code",
   "execution_count": 4,
   "metadata": {},
   "outputs": [
    {
     "name": "stdout",
     "output_type": "stream",
     "text": [
      "Help on module pyopenms.Constants in pyopenms:\n",
      "\n",
      "NAME\n",
      "    pyopenms.Constants\n",
      "\n",
      "DESCRIPTION\n",
      "    # @brief Mathematical and physical constants namespace.\n",
      "    # \n",
      "    # This namespace contains definitions for some basic mathematical and physical constants.\n",
      "    # All constants are double precision.\n",
      "\n",
      "DATA\n",
      "    AVOGADRO = 6.0221367e+23\n",
      "    BOHR_RADIUS = 5.29177249e-11\n",
      "    BOLTZMANN = 1.380657e-23\n",
      "    C13C12_MASSDIFF_U = 1.0033548378\n",
      "    CAL_PER_JOULE = 0.2390057361376673\n",
      "    DEG_PER_RAD = 57.29577951308232\n",
      "    E = 2.718281828459045\n",
      "    ELECTRON_MASS = 9.1093897e-31\n",
      "    ELECTRON_MASS_U = 0.0005485799042984105\n",
      "    ELEMENTARY_CHARGE = 1.60217738e-19\n",
      "    EPSILON = 1e-06\n",
      "    F = 96485.31200007845\n",
      "    FARADAY = 96485.31200007845\n",
      "    FINE_STRUCTURE_CONSTANT = 0.00729735\n",
      "    FRAGMENT_ANNOTATION_USERPARAM = 'fragment_annotation'\n",
      "    GAS_CONSTANT = 8.314505189811898\n",
      "    GRAVITATIONAL_CONSTANT = 6.67259e-11\n",
      "    JOULE_PER_CAL = 4.184\n",
      "    MM_PER_INCH = 25.4\n",
      "    MOL = 6.0221367e+23\n",
      "    M_PER_FOOT = 3.048\n",
      "    NA = 6.0221367e+23\n",
      "    NEUTRON_MASS = 1.6749286e-27\n",
      "    NEUTRON_MASS_U = 1.00866491566\n",
      "    PI = 3.141592653589793\n",
      "    PLANCK = 6.6260754e-34\n",
      "    PRECURSOR_ERROR_PPM_USERPARAM = 'precursor_mz_error_ppm'\n",
      "    PROTON_MASS = 1.672623e-27\n",
      "    PROTON_MASS_U = 1.007276466771\n",
      "    R = 8.314505189811898\n",
      "    RAD_PER_DEG = 0.017453292519943295\n",
      "    SPEED_OF_LIGHT = 299792458.0\n",
      "    VACUUM_PERMEABILITY = 1.2566370614359173e-06\n",
      "    VACUUM_PERMITTIVITY = 8.85419e-12\n",
      "    a0 = 5.29177249e-11\n",
      "    c = 299792458.0\n",
      "    e0 = 1.60217738e-19\n",
      "    h = 6.6260754e-34\n",
      "    k = 1.380657e-23\n",
      "\n",
      "FILE\n",
      "    c:\\users\\microsoft\\anaconda3\\lib\\site-packages\\pyopenms\\constants.py\n",
      "\n",
      "\n"
     ]
    }
   ],
   "source": [
    "help(pyopenms.Constants)"
   ]
  },
  {
   "cell_type": "code",
   "execution_count": 5,
   "metadata": {},
   "outputs": [
    {
     "name": "stdout",
     "output_type": "stream",
     "text": [
      "Avogadro's number is 6.0221367e+23\n"
     ]
    }
   ],
   "source": [
    "print (\"Avogadro's number is\", pyopenms.Constants.AVOGADRO)"
   ]
  },
  {
   "cell_type": "code",
   "execution_count": 6,
   "metadata": {},
   "outputs": [
    {
     "name": "stdout",
     "output_type": "stream",
     "text": [
      "Oxygen\n",
      "O\n",
      "15.994915\n",
      "15.999405323160001\n",
      "Sulfur\n",
      "S\n",
      "31.97207073\n",
      "32.066084735289\n",
      "One mole of oxygen weighs 31.998810646320003 grams\n",
      "One mole of 16O2 weighs 31.98983 grams\n"
     ]
    }
   ],
   "source": [
    "from pyopenms import *\n",
    "edb = ElementDB()\n",
    "\n",
    "edb.hasElement(\"O\")\n",
    "edb.hasElement(\"S\")\n",
    "\n",
    "oxygen = edb.getElement(\"O\")\n",
    "print(oxygen.getName())\n",
    "print(oxygen.getSymbol())\n",
    "print(oxygen.getMonoWeight())\n",
    "print(oxygen.getAverageWeight())\n",
    "\n",
    "sulfur = edb.getElement(\"S\")\n",
    "print(sulfur.getName())\n",
    "print(sulfur.getSymbol())\n",
    "print(sulfur.getMonoWeight())\n",
    "print(sulfur.getAverageWeight())\n",
    "isotopes = sulfur.getIsotopeDistribution()\n",
    "\n",
    "print (\"One mole of oxygen weighs\", 2*oxygen.getAverageWeight(), \"grams\")\n",
    "print (\"One mole of 16O2 weighs\", 2*oxygen.getMonoWeight(), \"grams\")"
   ]
  },
  {
   "cell_type": "code",
   "execution_count": 7,
   "metadata": {},
   "outputs": [
    {
     "name": "stdout",
     "output_type": "stream",
     "text": [
      "Oxygen isotope 15.994915 has abundance 99.75699782371521 %\n",
      "Oxygen isotope 16.999132 has abundance 0.03800000122282654 %\n",
      "Oxygen isotope 17.999169 has abundance 0.20500000100582838 %\n",
      "Sulfur isotope 31.97207073 has abundance 94.92999911308289 %\n",
      "Sulfur isotope 32.971458 has abundance 0.7600000128149986 %\n",
      "Sulfur isotope 33.967867 has abundance 4.2899999767541885 %\n",
      "Sulfur isotope 35.967081 has abundance 0.019999999494757503 %\n"
     ]
    }
   ],
   "source": [
    "edb = ElementDB()\n",
    "oxygen_isoDist = {\"mass\": [], \"abundance\": []}\n",
    "sulfur_isoDist = {\"mass\": [], \"abundance\": []}\n",
    "\n",
    "oxygen = edb.getElement(\"O\")\n",
    "isotopes = oxygen.getIsotopeDistribution()\n",
    "for iso in isotopes.getContainer():\n",
    "    print (\"Oxygen isotope\", iso.getMZ(), \"has abundance\", iso.getIntensity()*100, \"%\")\n",
    "    oxygen_isoDist[\"mass\"].append(iso.getMZ())\n",
    "    oxygen_isoDist[\"abundance\"].append((iso.getIntensity() * 100))\n",
    "\n",
    "sulfur = edb.getElement(\"S\")\n",
    "isotopes = sulfur.getIsotopeDistribution()\n",
    "for iso in isotopes.getContainer():\n",
    "    print (\"Sulfur isotope\", iso.getMZ(), \"has abundance\", iso.getIntensity()*100, \"%\")\n",
    "    sulfur_isoDist[\"mass\"].append(iso.getMZ())\n",
    "    sulfur_isoDist[\"abundance\"].append((iso.getIntensity() * 100))"
   ]
  },
  {
   "cell_type": "code",
   "execution_count": 8,
   "metadata": {},
   "outputs": [
    {
     "data": {
      "text/plain": [
       "<Figure size 1000x700 with 2 Axes>"
      ]
     },
     "metadata": {},
     "output_type": "display_data"
    }
   ],
   "source": [
    "import math\n",
    "from matplotlib import pyplot as plt\n",
    "\n",
    "# very simple overlappping correction of annotations\n",
    "def adjustText(x1, y1, x2, y2):\n",
    "    if y1 > y2:\n",
    "        plt.annotate('%0.3f' % (y2), xy=(x2, y2), xytext=(x2+0.5,y2+9),\n",
    "                     textcoords='data',\n",
    "                     arrowprops=dict(arrowstyle=\"->\", color='r', lw=0.5),\n",
    "                     horizontalalignment='right', verticalalignment='top')\n",
    "    else:\n",
    "        plt.annotate('%0.3f' % (y1), xy=(x1, y1), xytext=(x1+0.5,y1+9),\n",
    "                     textcoords='data',\n",
    "                     arrowprops=dict(arrowstyle=\"->\", color='r', lw=0.5),\n",
    "                     horizontalalignment='right', verticalalignment='top')\n",
    "\n",
    "\n",
    "def plotDistribution(distribution):\n",
    "    n = len(distribution[\"mass\"])\n",
    "    for i in range(0, n):\n",
    "        plt.vlines(x=distribution[\"mass\"][i], ymin=0, ymax=distribution[\"abundance\"][i])\n",
    "        if int(distribution[\"mass\"][i - 1]) == int(distribution[\"mass\"][i]) \\\n",
    "                and i != 0:\n",
    "            adjustText(distribution[\"mass\"][i - 1], distribution[\"abundance\"][i - 1],\n",
    "                       distribution[\"mass\"][i], distribution[\"abundance\"][i])\n",
    "        else:\n",
    "            plt.text(x=distribution[\"mass\"][i],\n",
    "                     y=(distribution[\"abundance\"][i] + 2),\n",
    "                     s='%0.3f' % (distribution[\"abundance\"][i]), va='center',\n",
    "                     ha='center')\n",
    "    plt.ylim([0, 110])\n",
    "    plt.xticks(range(math.ceil(distribution[\"mass\"][0]) - 2,\n",
    "                     math.ceil(distribution[\"mass\"][-1]) + 2))\n",
    "\n",
    "\n",
    "plt.figure(figsize=(10,7))\n",
    "\n",
    "plt.subplot(1,2,1)\n",
    "plt.title(\"Isotopic distribution of oxygen\")\n",
    "plotDistribution(oxygen_isoDist)\n",
    "plt.xlabel(\"Atomic mass (u)\")\n",
    "plt.ylabel(\"Relative abundance (%)\")\n",
    "\n",
    "plt.subplot(1,2,2)\n",
    "plt.title(\"Isotopic distribution of sulfur\")\n",
    "plotDistribution(sulfur_isoDist)\n",
    "plt.xlabel(\"Atomic mass (u)\")\n",
    "plt.ylabel(\"Relative abundance (%)\")\n",
    "\n",
    "plt.show()"
   ]
  },
  {
   "cell_type": "code",
   "execution_count": 9,
   "metadata": {},
   "outputs": [
    {
     "name": "stdout",
     "output_type": "stream",
     "text": [
      "Ethanol chemical formula: C2H6O1\n",
      "Ethanol composition: {b'C': 2, b'H': 6, b'O': 1}\n",
      "Ethanol has 6 hydrogen atoms\n"
     ]
    }
   ],
   "source": [
    "methanol = EmpiricalFormula(\"CH3OH\")\n",
    "water = EmpiricalFormula(\"H2O\")\n",
    "ethanol = EmpiricalFormula(\"CH2\") + methanol\n",
    "print(\"Ethanol chemical formula:\", ethanol.toString())\n",
    "print(\"Ethanol composition:\", ethanol.getElementalComposition())\n",
    "print(\"Ethanol has\", ethanol.getElementalComposition()[b\"H\"], \"hydrogen atoms\")"
   ]
  },
  {
   "cell_type": "code",
   "execution_count": 10,
   "metadata": {},
   "outputs": [
    {
     "name": "stdout",
     "output_type": "stream",
     "text": [
      "Coarse Isotope Distribution:\n",
      "This covers 1.000000014755642 probability\n",
      "Isotope 46.0418651914 has abundance 97.56630063056946 %\n",
      "Isotope 47.045220029199996 has abundance 2.21499539911747 %\n",
      "Isotope 48.048574867 has abundance 0.2142168115824461 %\n",
      "Isotope 49.0519297048 has abundance 0.004488634294830263 %\n",
      "Fine Isotope Distribution:\n",
      "This covers 0.9994461630121805 probability\n",
      "Isotope 46.0418651914 has abundance 97.5662887096405 %\n",
      "Isotope 47.0452201914 has abundance 2.110501006245613 %\n",
      "Isotope 47.0481419395 has abundance 0.06732848123647273 %\n",
      "Isotope 48.046119191399995 has abundance 0.20049810409545898 %\n"
     ]
    }
   ],
   "source": [
    "methanol = EmpiricalFormula(\"CH3OH\")\n",
    "ethanol = EmpiricalFormula(\"CH2\") + methanol\n",
    "\n",
    "methanol_isoDist = {\"mass\": [], \"abundance\": []}\n",
    "ethanol_isoDist = {\"mass\": [], \"abundance\": []}\n",
    "\n",
    "print(\"Coarse Isotope Distribution:\")\n",
    "isotopes = ethanol.getIsotopeDistribution( CoarseIsotopePatternGenerator(4) )\n",
    "prob_sum = sum([iso.getIntensity() for iso in isotopes.getContainer()])\n",
    "print(\"This covers\", prob_sum, \"probability\")\n",
    "for iso in isotopes.getContainer():\n",
    "    print (\"Isotope\", iso.getMZ(), \"has abundance\", iso.getIntensity()*100, \"%\")\n",
    "    methanol_isoDist[\"mass\"].append(iso.getMZ())\n",
    "    methanol_isoDist[\"abundance\"].append((iso.getIntensity() * 100))\n",
    "\n",
    "print(\"Fine Isotope Distribution:\")\n",
    "isotopes = ethanol.getIsotopeDistribution( FineIsotopePatternGenerator(1e-3) )\n",
    "prob_sum = sum([iso.getIntensity() for iso in isotopes.getContainer()])\n",
    "print(\"This covers\", prob_sum, \"probability\")\n",
    "for iso in isotopes.getContainer():\n",
    "    print (\"Isotope\", iso.getMZ(), \"has abundance\", iso.getIntensity()*100, \"%\")\n",
    "    ethanol_isoDist[\"mass\"].append(iso.getMZ())\n",
    "    ethanol_isoDist[\"abundance\"].append((iso.getIntensity() * 100))"
   ]
  },
  {
   "cell_type": "code",
   "execution_count": 11,
   "metadata": {},
   "outputs": [
    {
     "data": {
      "image/png": "[encoded data removed]",
      "text/plain": [
       "<Figure size 720x504 with 2 Axes>"
      ]
     },
     "metadata": {
      "needs_background": "light"
     },
     "output_type": "display_data"
    }
   ],
   "source": [
    "plt.figure(figsize=(10,7))\n",
    "\n",
    "plt.subplot(1,2,1)\n",
    "plt.title(\"Isotopic distribution of methanol\")\n",
    "plotDistribution(methanol_isoDist)\n",
    "plt.xlabel(\"Atomic mass (u)\")\n",
    "plt.ylabel(\"Relative abundance (%)\")\n",
    "\n",
    "plt.subplot(1,2,2)\n",
    "plt.title(\"Isotopic distribution of ethanol\")\n",
    "plotDistribution(ethanol_isoDist)\n",
    "plt.xlabel(\"Atomic mass (u)\")\n",
    "plt.ylabel(\"Relative abundance (%)\")\n",
    "\n",
    "plt.savefig(\"methanol_ethanol_isoDistribution.png\")"
   ]
  },
  {
   "cell_type": "code",
   "execution_count": 12,
   "metadata": {},
   "outputs": [
    {
     "name": "stdout",
     "output_type": "stream",
     "text": [
      "Fine Isotope Distribution:\n",
      "This covers 0.9999993089130612 probability\n",
      "Isotope 46.0418651914 has abundance 97.5662887096405 %\n",
      "Isotope 47.0452201914 has abundance 2.110501006245613 %\n",
      "Isotope 47.046082191400004 has abundance 0.03716550418175757 %\n",
      "Isotope 47.0481419395 has abundance 0.06732848123647273 %\n",
      "Isotope 48.046119191399995 has abundance 0.20049810409545898 %\n",
      "Isotope 48.0485751914 has abundance 0.011413302854634821 %\n",
      "Isotope 48.0494371914 has abundance 0.0008039440217544325 %\n",
      "Isotope 48.0514969395 has abundance 0.0014564131561201066 %\n",
      "Isotope 49.049474191399995 has abundance 0.004337066275184043 %\n",
      "Isotope 49.0523959395 has abundance 0.00013835959862262825 %\n"
     ]
    }
   ],
   "source": [
    "methanol = EmpiricalFormula(\"CH3OH\")\n",
    "ethanol = EmpiricalFormula(\"CH2\") + methanol\n",
    "\n",
    "print(\"Fine Isotope Distribution:\")\n",
    "isotopes = ethanol.getIsotopeDistribution( FineIsotopePatternGenerator(1e-6) )\n",
    "prob_sum = sum([iso.getIntensity() for iso in isotopes.getContainer()])\n",
    "print(\"This covers\", prob_sum, \"probability\")\n",
    "for iso in isotopes.getContainer():\n",
    "    print (\"Isotope\", iso.getMZ(), \"has abundance\", iso.getIntensity()*100, \"%\")"
   ]
  },
  {
   "cell_type": "code",
   "execution_count": 13,
   "metadata": {},
   "outputs": [
    {
     "name": "stdout",
     "output_type": "stream",
     "text": [
      "Isotope 46.0 has abundance 97.56627082824707 %\n",
      "Isotope 47.0 has abundance 2.214994840323925 %\n",
      "Isotope 48.0 has abundance 0.214216741733253 %\n",
      "Isotope 49.0 has abundance 0.0044886332034366205 %\n",
      "Isotope 50.0 has abundance 2.64924580051229e-05 %\n"
     ]
    }
   ],
   "source": [
    "isotopes = ethanol.getIsotopeDistribution( CoarseIsotopePatternGenerator(5, True) )\n",
    "for iso in isotopes.getContainer():\n",
    "    print (\"Isotope\", iso.getMZ(), \"has abundance\", iso.getIntensity()*100, \"%\")"
   ]
  },
  {
   "cell_type": "code",
   "execution_count": 14,
   "metadata": {},
   "outputs": [
    {
     "name": "stdout",
     "output_type": "stream",
     "text": [
      "Lysine\n",
      "Lys\n",
      "K\n",
      "146.18788276708443\n",
      "146.1055284466\n",
      "2.16\n",
      "C6H14N2O2\n"
     ]
    }
   ],
   "source": [
    "lys = ResidueDB().getResidue(\"Lysine\")\n",
    "print(lys.getName())\n",
    "print(lys.getThreeLetterCode())\n",
    "print(lys.getOneLetterCode())\n",
    "print(lys.getAverageWeight())\n",
    "print(lys.getMonoWeight())\n",
    "print(lys.getPka())\n",
    "print(lys.getFormula().toString())"
   ]
  },
  {
   "cell_type": "code",
   "execution_count": 15,
   "metadata": {},
   "outputs": [
    {
     "name": "stdout",
     "output_type": "stream",
     "text": [
      "UniMod:35\n",
      "35\n",
      "15.994915\n",
      "Oxidation\n",
      "Oxidation (M)\n",
      "Oxidation or Hydroxylation\n",
      "O1\n"
     ]
    }
   ],
   "source": [
    "ox = ModificationsDB().getModification(\"Oxidation\")\n",
    "print(ox.getUniModAccession())\n",
    "print(ox.getUniModRecordId())\n",
    "print(ox.getDiffMonoMass())\n",
    "print(ox.getId())\n",
    "print(ox.getFullId())\n",
    "print(ox.getFullName())\n",
    "print(ox.getDiffFormula())"
   ]
  },
  {
   "cell_type": "code",
   "execution_count": 16,
   "metadata": {},
   "outputs": [
    {
     "name": "stdout",
     "output_type": "stream",
     "text": [
      "15.994915 : 0.9975699782371521\n",
      "16.998269837800002 : 0.0003800000122282654\n",
      "18.0016246756 : 0.002050000010058284\n"
     ]
    }
   ],
   "source": [
    "isotopes = ox.getDiffFormula().getIsotopeDistribution(CoarseIsotopePatternGenerator(5))\n",
    "for iso in isotopes.getContainer():\n",
    "    print (iso.getMZ(), \":\", iso.getIntensity())"
   ]
  },
  {
   "cell_type": "code",
   "execution_count": 17,
   "metadata": {},
   "outputs": [
    {
     "name": "stdout",
     "output_type": "stream",
     "text": [
      "uridine\n",
      "U\n",
      "244.2043\n",
      "244.0695\n",
      "C9H12N2O6\n",
      "False\n",
      "1-methyladenosine\n",
      "True\n"
     ]
    }
   ],
   "source": [
    "uridine = RibonucleotideDB().getRibonucleotide(b\"U\")\n",
    "print(uridine.getName())\n",
    "print(uridine.getCode())\n",
    "print(uridine.getAvgMass())\n",
    "print(uridine.getMonoMass())\n",
    "print(uridine.getFormula().toString())\n",
    "print(uridine.isModified())\n",
    "methyladenosine = RibonucleotideDB().getRibonucleotide(b\"m1A\")\n",
    "print(methyladenosine.getName())\n",
    "print(methyladenosine.isModified())"
   ]
  },
  {
   "cell_type": "code",
   "execution_count": null,
   "metadata": {},
   "outputs": [],
   "source": []
  }
 ],
 "metadata": {
  "kernelspec": {
   "display_name": "Python 3",
   "language": "python",
   "name": "python3"
  },
  "language_info": {
   "codemirror_mode": {
    "name": "ipython",
    "version": 3
   },
   "file_extension": ".py",
   "mimetype": "text/x-python",
   "name": "python",
   "nbconvert_exporter": "python",
   "pygments_lexer": "ipython3",
   "version": "3.7.4"
  }
 },
 "nbformat": 4,
 "nbformat_minor": 2
}
