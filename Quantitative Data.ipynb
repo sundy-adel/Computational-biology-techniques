{
 "cells": [
  {
   "cell_type": "code",
   "execution_count": 1,
   "metadata": {},
   "outputs": [],
   "source": [
    "from pyopenms import *\n",
    "feature = Feature()\n",
    "feature.setMZ( 500.9 )\n",
    "feature.setCharge(2)\n",
    "feature.setRT( 1500.1 )\n",
    "feature.setIntensity( 30500 )\n",
    "feature.setOverallQuality( 10 )"
   ]
  },
  {
   "cell_type": "code",
   "execution_count": 2,
   "metadata": {},
   "outputs": [],
   "source": [
    "fm = FeatureMap()\n",
    "fm.push_back(feature)\n",
    "feature.setRT(1600.5 )\n",
    "feature.setCharge(2)\n",
    "feature.setMZ( 600.0 )\n",
    "feature.setIntensity( 80500.0 )\n",
    "fm.push_back(feature)\n",
    "FeatureXMLFile().store(\"test.featureXML\", fm)"
   ]
  },
  {
   "cell_type": "code",
   "execution_count": 3,
   "metadata": {},
   "outputs": [
    {
     "name": "stdout",
     "output_type": "stream",
     "text": [
      "Feature:  30500.0 1500.1 500.9\n",
      "Feature:  80500.0 1600.5 600.0\n"
     ]
    }
   ],
   "source": [
    "fmap = FeatureMap()\n",
    "FeatureXMLFile().load(\"test.featureXML\", fmap)\n",
    "for feature in fmap:\n",
    "   print(\"Feature: \", feature.getIntensity(), feature.getRT(), feature.getMZ())"
   ]
  },
  {
   "cell_type": "code",
   "execution_count": 4,
   "metadata": {},
   "outputs": [],
   "source": [
    "feature = ConsensusFeature()\n",
    "feature.setMZ( 500.9 )\n",
    "feature.setCharge(2)\n",
    "feature.setRT( 1500.1 )\n",
    "feature.setIntensity( 80500 )\n",
    "\n",
    "# Generate ConsensusFeature and features from two maps (with id 1 and 2)\n",
    "### Feature 1\n",
    "f_m1 = ConsensusFeature()\n",
    "f_m1.setRT(500)\n",
    "f_m1.setMZ(300.01)\n",
    "f_m1.setIntensity(200)\n",
    "f_m1.ensureUniqueId()\n",
    "### Feature 2\n",
    "f_m2 = ConsensusFeature()\n",
    "f_m2.setRT(505)\n",
    "f_m2.setMZ(299.99)\n",
    "f_m2.setIntensity(600)\n",
    "f_m2.ensureUniqueId()\n",
    "feature.insert(1, f_m1 )\n",
    "feature.insert(2, f_m2 )"
   ]
  },
  {
   "cell_type": "code",
   "execution_count": 5,
   "metadata": {},
   "outputs": [
    {
     "name": "stdout",
     "output_type": "stream",
     "text": [
      "1 200.0 500.0\n",
      "2 600.0 505.0\n",
      "500.9\n",
      "299.99\n"
     ]
    }
   ],
   "source": [
    "# The two features in map 1 and map 2 represent the same analyte at\n",
    "# slightly different RT and m/z\n",
    "for fh in feature.getFeatureList():\n",
    "  print(fh.getMapIndex(), fh.getIntensity(), fh.getRT())\n",
    "\n",
    "print(feature.getMZ())\n",
    "feature.computeMonoisotopicConsensus()\n",
    "print(feature.getMZ())\n",
    "\n",
    "# Generate ConsensusMap and add two maps (with id 1 and 2)\n",
    "cmap = ConsensusMap()\n",
    "fds = { 1 : ColumnHeader(), 2 : ColumnHeader() }\n",
    "fds[1].filename = \"file1\"\n",
    "fds[2].filename = \"file2\"\n",
    "cmap.setColumnHeaders(fds)\n",
    "\n",
    "feature.ensureUniqueId()\n",
    "cmap.push_back(feature)\n",
    "ConsensusXMLFile().store(\"test.consensusXML\", cmap)"
   ]
  },
  {
   "cell_type": "code",
   "execution_count": 6,
   "metadata": {},
   "outputs": [
    {
     "name": "stdout",
     "output_type": "stream",
     "text": [
      "ConsensusFeature 400.0 502.5 300.0\n",
      " -- Feature 1 200.0 500.0\n",
      " -- Feature 2 600.0 505.0\n"
     ]
    }
   ],
   "source": [
    "cmap = ConsensusMap()\n",
    "ConsensusXMLFile().load(\"test.consensusXML\", cmap)\n",
    "for cfeature in cmap:\n",
    "   cfeature.computeConsensus()\n",
    "   print(\"ConsensusFeature\", cfeature.getIntensity(), cfeature.getRT(), cfeature.getMZ())\n",
    "   # The two features in map 1 and map 2 represent the same analyte at\n",
    "   # slightly different RT and m/z\n",
    "   for fh in cfeature.getFeatureList():\n",
    "     print(\" -- Feature\", fh.getMapIndex(), fh.getIntensity(), fh.getRT())\n"
   ]
  },
  {
   "cell_type": "code",
   "execution_count": null,
   "metadata": {},
   "outputs": [],
   "source": []
  }
 ],
 "metadata": {
  "kernelspec": {
   "display_name": "Python 3",
   "language": "python",
   "name": "python3"
  },
  "language_info": {
   "codemirror_mode": {
    "name": "ipython",
    "version": 3
   },
   "file_extension": ".py",
   "mimetype": "text/x-python",
   "name": "python",
   "nbconvert_exporter": "python",
   "pygments_lexer": "ipython3",
   "version": "3.7.4"
  }
 },
 "nbformat": 4,
 "nbformat_minor": 2
}
