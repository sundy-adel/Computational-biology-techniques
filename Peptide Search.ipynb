{
 "cells": [
  {
   "cell_type": "code",
   "execution_count": 1,
   "metadata": {},
   "outputs": [],
   "source": [
    "from urllib.request import urlretrieve\n",
    "from pyopenms import *\n",
    "gh = \"https://raw.githubusercontent.com/OpenMS/pyopenms-extra/master\"\n",
    "urlretrieve (gh +\"/src/data/SimpleSearchEngine_1.mzML\", \"searchfile.mzML\")\n",
    "urlretrieve (gh +\"/src/data/SimpleSearchEngine_1.fasta\", \"search.fasta\")\n",
    "protein_ids = []\n",
    "peptide_ids = []\n",
    "SimpleSearchEngineAlgorithm().search(\"searchfile.mzML\", \"search.fasta\", protein_ids, peptide_ids)"
   ]
  },
  {
   "cell_type": "code",
   "execution_count": 2,
   "metadata": {},
   "outputs": [
    {
     "name": "stdout",
     "output_type": "stream",
     "text": [
      "===================================\n",
      "Peptide ID m/z: 520.262817382812\n",
      "Peptide ID rt: 2655.095703125\n",
      "Peptide scan index: 0\n",
      "Peptide scan name: 0\n",
      "Peptide ID score type: hyperscore\n",
      " - Peptide hit rank: 1\n",
      " - Peptide hit charge: 3\n",
      " - Peptide hit sequence: DFASSGGYVLHLHR\n",
      " - Peptide hit monoisotopic m/z: 520.2635538953376\n",
      " - Peptide ppm error: 1.4156527399679193\n",
      " - Peptide hit score: 16.84163475036621\n",
      "===================================\n",
      "Peptide ID m/z: 1063.20983886719\n",
      "Peptide ID rt: 4587.6689453125\n",
      "Peptide scan index: 1\n",
      "Peptide scan name: 1\n",
      "Peptide ID score type: hyperscore\n",
      " - Peptide hit rank: 1\n",
      " - Peptide hit charge: 3\n",
      " - Peptide hit sequence: IALSRPNVEVVALNDPFITNDYAAYM(Oxidation)FK\n",
      " - Peptide hit monoisotopic m/z: 1063.2092724146712\n",
      " - Peptide ppm error: 0.5327761274224441\n",
      " - Peptide hit score: 42.21834182739258\n",
      "===================================\n",
      "Peptide ID m/z: 775.38720703125\n",
      "Peptide ID rt: 4923.77734375\n",
      "Peptide scan index: 2\n",
      "Peptide scan name: 2\n",
      "Peptide ID score type: hyperscore\n",
      " - Peptide hit rank: 1\n",
      " - Peptide hit charge: 3\n",
      " - Peptide hit sequence: RPGADSDIGGFGGLFDLAQAGFR\n",
      " - Peptide hit monoisotopic m/z: 775.3854614376378\n",
      " - Peptide ppm error: 2.2512591466143492\n",
      " - Peptide hit score: 34.93666076660156\n"
     ]
    }
   ],
   "source": [
    "for peptide_id in peptide_ids:\n",
    "  # Peptide identification values\n",
    "  print (35*\"=\")\n",
    "  print (\"Peptide ID m/z:\", peptide_id.getMZ())\n",
    "  print (\"Peptide ID rt:\", peptide_id.getRT())\n",
    "  print (\"Peptide scan index:\", peptide_id.getMetaValue(\"scan_index\"))\n",
    "  print (\"Peptide scan name:\", peptide_id.getMetaValue(\"scan_index\"))\n",
    "  print (\"Peptide ID score type:\", peptide_id.getScoreType())\n",
    "  # PeptideHits\n",
    "  for hit in peptide_id.getHits():\n",
    "    print(\" - Peptide hit rank:\", hit.getRank())\n",
    "    print(\" - Peptide hit charge:\", hit.getCharge())\n",
    "    print(\" - Peptide hit sequence:\", hit.getSequence())\n",
    "    mz = hit.getSequence().getMonoWeight(Residue.ResidueType.Full, hit.getCharge()) / hit.getCharge()\n",
    "    print(\" - Peptide hit monoisotopic m/z:\", mz)\n",
    "    print(\" - Peptide ppm error:\", abs(mz - peptide_id.getMZ())/mz *10**6 )\n",
    "    print(\" - Peptide hit score:\", hit.getScore())"
   ]
  },
  {
   "cell_type": "code",
   "execution_count": 3,
   "metadata": {},
   "outputs": [
    {
     "name": "stdout",
     "output_type": "stream",
     "text": [
      "b'y1+' 175.118952913371\n",
      "b'b2+' 254.161152072871\n",
      "b'b3+' 311.18261616857103\n",
      "b'y2+' 322.187367200471\n",
      "b'y3+' 379.208831296171\n",
      "b'b4+' 382.219730328071\n",
      "b'y4+' 450.245945455671\n",
      "b'b5+' 497.24667448757106\n",
      "b'y5+' 578.304523710871\n",
      "b'b6+' 584.2787036470711\n",
      "b'y6+' 649.341637870371\n",
      "b'b7+' 699.3056478065711\n",
      "b'y7+' 762.425702221271\n",
      "b'b8+' 812.3897121574711\n",
      "b'b9+' 869.4111762531711\n",
      "b'y8+' 877.452646380771\n",
      "b'b10+' 926.4326403488711\n",
      "b'y9+' 1024.5210606678709\n",
      "b'b11+' 1073.501054635971\n",
      "b'b12+' 1130.522518731671\n",
      "b'y10+' 1137.6051250187709\n",
      "b'b13+' 1187.5439828273709\n",
      "b'y11+' 1194.6265891144708\n",
      "b'y12+' 1251.6480532101707\n",
      "b'b14+' 1300.628047178271\n",
      "b'y13+' 1398.7164674972707\n",
      "b'b15+' 1447.696461465371\n",
      "b'y14+' 1455.7379315929707\n",
      "b'y15+' 1512.7593956886706\n",
      "b'b16+' 1562.723405624871\n",
      "b'y16+' 1625.8434600395706\n",
      "b'b17+' 1675.807469975771\n",
      "b'y17+' 1740.8704041990707\n",
      "b'b18+' 1746.8445841352711\n",
      "b'y18+' 1827.9024333585708\n",
      "b'b19+' 1874.9031623904712\n",
      "b'y19+' 1942.9293775180709\n",
      "b'b20+' 1945.9402765499713\n",
      "b'b21+' 2002.9617406456712\n",
      "b'y20+' 2013.966491677571\n",
      "b'y21+' 2070.987955773271\n",
      "b'b22+' 2150.030154932771\n",
      "b'y22+' 2168.040719996571\n",
      "Spectrum native id spectrum=2\n",
      "877.4534301757812 mz 1753.01 int\n",
      "926.434326171875 mz 1639.3121 int\n",
      "1024.5223388671875 mz 2204.35 int\n",
      "1187.544189453125 mz 1774.3148 int\n"
     ]
    }
   ],
   "source": [
    "tsg = TheoreticalSpectrumGenerator()\n",
    "thspec = MSSpectrum()\n",
    "p = Param()\n",
    "p.setValue(\"add_metainfo\", \"true\")\n",
    "tsg.setParameters(p)\n",
    "peptide = AASequence.fromString(\"RPGADSDIGGFGGLFDLAQAGFR\")\n",
    "tsg.getSpectrum(thspec, peptide, 1, 1)\n",
    "# Iterate over annotated ions and their masses\n",
    "for ion, peak in zip(thspec.getStringDataArrays()[0], thspec):\n",
    "    print(ion, peak.getMZ())\n",
    "\n",
    "e = MSExperiment()\n",
    "MzMLFile().load(\"searchfile.mzML\", e)\n",
    "print (\"Spectrum native id\", e[2].getNativeID() )\n",
    "mz,i = e[2].get_peaks()\n",
    "peaks = [(mz,i) for mz,i in zip(mz,i) if i > 1500 and mz > 300]\n",
    "for peak in peaks:\n",
    "  print (peak[0], \"mz\", peak[1], \"int\")"
   ]
  },
  {
   "cell_type": "code",
   "execution_count": 4,
   "metadata": {},
   "outputs": [
    {
     "name": "stdout",
     "output_type": "stream",
     "text": [
      "[(b'enzyme', 'Trypsin'), (b'decoys', 'false'), (b'precursor:mass_tolerance', 10.0), (b'precursor:mass_tolerance_unit', 'ppm'), (b'precursor:min_charge', 2), (b'precursor:max_charge', 5), (b'precursor:isotopes', [0, 1]), (b'fragment:mass_tolerance', 10.0), (b'fragment:mass_tolerance_unit', 'ppm'), (b'modifications:fixed', [b'Carbamidomethyl (C)']), (b'modifications:variable', [b'Oxidation (M)']), (b'modifications:variable_max_per_peptide', 2), (b'annotate:PSM', [b'ALL']), (b'peptide:min_size', 7), (b'peptide:max_size', 40), (b'peptide:missed_cleavages', 1), (b'peptide:motif', ''), (b'report:top_hits', 1)]\n",
      "Found 3 peptides\n"
     ]
    }
   ],
   "source": [
    "salgo = SimpleSearchEngineAlgorithm()\n",
    "p = salgo.getDefaults()\n",
    "print ( p.items() )\n",
    "p[b'precursor:mass_tolerance'] = 4.0\n",
    "salgo.setParameters(p)\n",
    "\n",
    "protein_ids = []\n",
    "peptide_ids = []\n",
    "salgo.search(\"searchfile.mzML\", \"search.fasta\", protein_ids, peptide_ids)\n",
    "print(\"Found\", len(peptide_ids), \"peptides\")"
   ]
  },
  {
   "cell_type": "code",
   "execution_count": null,
   "metadata": {},
   "outputs": [],
   "source": []
  }
 ],
 "metadata": {
  "kernelspec": {
   "display_name": "Python 3",
   "language": "python",
   "name": "python3"
  },
  "language_info": {
   "codemirror_mode": {
    "name": "ipython",
    "version": 3
   },
   "file_extension": ".py",
   "mimetype": "text/x-python",
   "name": "python",
   "nbconvert_exporter": "python",
   "pygments_lexer": "ipython3",
   "version": "3.7.4"
  }
 },
 "nbformat": 4,
 "nbformat_minor": 2
}
