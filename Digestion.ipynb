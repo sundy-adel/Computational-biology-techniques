{
 "cells": [
  {
   "cell_type": "code",
   "execution_count": 1,
   "metadata": {},
   "outputs": [
    {
     "name": "stdout",
     "output_type": "stream",
     "text": [
      "DTHK\n"
     ]
    },
    {
     "data": {
      "text/plain": [
       "82"
      ]
     },
     "execution_count": 1,
     "metadata": {},
     "output_type": "execute_result"
    }
   ],
   "source": [
    "from pyopenms import *\n",
    "from urllib.request import urlretrieve\n",
    "gh = \"https://raw.githubusercontent.com/OpenMS/pyopenms-extra/master\"\n",
    "urlretrieve (gh + \"/src/data/P02769.fasta\", \"bsa.fasta\")\n",
    "\n",
    "dig = ProteaseDigestion()\n",
    "dig.getEnzymeName() # Trypsin\n",
    "bsa = \"\".join([l.strip() for l in open(\"bsa.fasta\").readlines()[1:]])\n",
    "bsa = AASequence.fromString(bsa)\n",
    "# create all digestion products\n",
    "result = []\n",
    "dig.digest(bsa, result)\n",
    "print(result[4].toString())\n",
    "len(result) # 82 peptides"
   ]
  },
  {
   "cell_type": "code",
   "execution_count": 2,
   "metadata": {},
   "outputs": [
    {
     "name": "stdout",
     "output_type": "stream",
     "text": [
      "WVTFISLLLLFSSAYSR\n",
      "DLGEEHFK\n",
      "GLVLIAFSQYLQQCPFDEHVK\n",
      "LVNELTEFAK\n",
      "TCVADESHAGCEK\n",
      "SLHTLFGDELCK\n",
      "ETYGDMADCCEK\n",
      "NECFLSHK\n",
      "DDSPDLPK\n",
      "LKPDPNTLCDEFK\n",
      "YLYEIAR\n",
      "HPYFYAPELLYYANK\n",
      "YNGVFQECCQAEDK\n",
      "GACLLPK\n",
      "VLASSAR\n",
      "AEFVEVTK\n",
      "LVTDLTK\n",
      "ECCHGDLLECADDR\n",
      "YICDNQDTISSK\n",
      "ECCDKPLLEK\n",
      "SHCIAEVEK\n",
      "DAIPENLPPLTADFAEDK\n",
      "DAFLGSFLYEYSR\n",
      "HPEYAVSVLLR\n",
      "EYEATLEECCAK\n",
      "DDPHACYSTVFDK\n",
      "HLVDEPQNLIK\n",
      "QNCDQFEK\n",
      "LGEYGFQNALIVR\n",
      "VPQVSTPTLVEVSR\n",
      "CCTKPESER\n",
      "MPCTEDYLSLILNR\n",
      "LCVLHEK\n",
      "CCTESLVNR\n",
      "RPCFSALTPDETYVPK\n",
      "LFTFHADICTLPDTEK\n",
      "QTALVELLK\n",
      "ATEEQLK\n",
      "TVMENFVAFVDK\n",
      "CCAADDK\n",
      "EACFAVEGPK\n",
      "LVVSTQTALA\n"
     ]
    }
   ],
   "source": [
    "# only create peptides of length 7-40\n",
    "dig.digest(bsa, result, 7, 40)\n",
    "# print the results\n",
    "for s in result:\n",
    "    print(s.toString())"
   ]
  },
  {
   "cell_type": "code",
   "execution_count": 3,
   "metadata": {},
   "outputs": [
    {
     "name": "stdout",
     "output_type": "stream",
     "text": [
      "WVTFISLLLLFSSAYSR\n",
      "DLGEEHFK\n",
      "GLVLIAFSQYLQQCPFDEHVK\n",
      "LVNELTEFAK\n",
      "TCVADESHAGCEK\n",
      "SLHTLFGDELCK\n",
      "ETYGDMADCCEK\n",
      "NECFLSHK\n",
      "DDSPDLPK\n",
      "LKPDPNTLCDEFK\n",
      "YLYEIAR\n",
      "HPYFYAPELLYYANK\n",
      "YNGVFQECCQAEDK\n",
      "GACLLPK\n",
      "VLASSAR\n",
      "AEFVEVTK\n",
      "LVTDLTK\n",
      "ECCHGDLLECADDR\n",
      "YICDNQDTISSK\n",
      "ECCDKPLLEK\n",
      "SHCIAEVEK\n",
      "DAIPENLPPLTADFAEDK\n",
      "DAFLGSFLYEYSR\n",
      "HPEYAVSVLLR\n",
      "EYEATLEECCAK\n",
      "DDPHACYSTVFDK\n",
      "HLVDEPQNLIK\n",
      "QNCDQFEK\n",
      "LGEYGFQNALIVR\n",
      "VPQVSTPTLVEVSR\n",
      "CCTKPESER\n",
      "MPCTEDYLSLILNR\n",
      "LCVLHEK\n",
      "CCTESLVNR\n",
      "RPCFSALTPDETYVPK\n",
      "LFTFHADICTLPDTEK\n",
      "QTALVELLK\n",
      "ATEEQLK\n",
      "TVMENFVAFVDK\n",
      "CCAADDK\n",
      "EACFAVEGPK\n",
      "LVVSTQTALA\n",
      "MKWVTFISLLLLFSSAYSR\n",
      "WVTFISLLLLFSSAYSRGVFR\n",
      "DTHKSEIAHR\n",
      "SEIAHRFK\n",
      "FKDLGEEHFK\n",
      "DLGEEHFKGLVLIAFSQYLQQCPFDEHVK\n",
      "GLVLIAFSQYLQQCPFDEHVKLVNELTEFAK\n",
      "LVNELTEFAKTCVADESHAGCEK\n",
      "TCVADESHAGCEKSLHTLFGDELCK\n",
      "SLHTLFGDELCKVASLR\n",
      "VASLRETYGDMADCCEK\n",
      "ETYGDMADCCEKQEPER\n",
      "QEPERNECFLSHK\n",
      "NECFLSHKDDSPDLPK\n",
      "DDSPDLPKLKPDPNTLCDEFK\n",
      "LKPDPNTLCDEFKADEK\n",
      "FWGKYLYEIAR\n",
      "YLYEIARR\n",
      "RHPYFYAPELLYYANK\n",
      "HPYFYAPELLYYANKYNGVFQECCQAEDK\n",
      "YNGVFQECCQAEDKGACLLPK\n",
      "GACLLPKIETMR\n",
      "IETMREK\n",
      "EKVLASSAR\n",
      "VLASSARQR\n",
      "LRCASIQK\n",
      "CASIQKFGER\n",
      "FGERALK\n",
      "ALKAWSVAR\n",
      "AWSVARLSQK\n",
      "LSQKFPK\n",
      "FPKAEFVEVTK\n",
      "AEFVEVTKLVTDLTK\n",
      "LVTDLTKVHK\n",
      "VHKECCHGDLLECADDR\n",
      "ECCHGDLLECADDRADLAK\n",
      "ADLAKYICDNQDTISSK\n",
      "YICDNQDTISSKLK\n",
      "LKECCDKPLLEK\n",
      "ECCDKPLLEKSHCIAEVEK\n",
      "SHCIAEVEKDAIPENLPPLTADFAEDK\n",
      "DAIPENLPPLTADFAEDKDVCK\n",
      "DVCKNYQEAK\n",
      "NYQEAKDAFLGSFLYEYSR\n",
      "DAFLGSFLYEYSRR\n",
      "RHPEYAVSVLLR\n",
      "HPEYAVSVLLRLAK\n",
      "LAKEYEATLEECCAK\n",
      "EYEATLEECCAKDDPHACYSTVFDK\n",
      "DDPHACYSTVFDKLK\n",
      "LKHLVDEPQNLIK\n",
      "HLVDEPQNLIKQNCDQFEK\n",
      "QNCDQFEKLGEYGFQNALIVR\n",
      "LGEYGFQNALIVRYTR\n",
      "KVPQVSTPTLVEVSR\n",
      "VPQVSTPTLVEVSRSLGK\n",
      "SLGKVGTR\n",
      "VGTRCCTKPESER\n",
      "CCTKPESERMPCTEDYLSLILNR\n",
      "MPCTEDYLSLILNRLCVLHEK\n",
      "LCVLHEKTPVSEK\n",
      "TPVSEKVTK\n",
      "VTKCCTESLVNR\n",
      "CCTESLVNRRPCFSALTPDETYVPK\n",
      "RPCFSALTPDETYVPKAFDEK\n",
      "AFDEKLFTFHADICTLPDTEK\n",
      "LFTFHADICTLPDTEKQIK\n",
      "KQTALVELLK\n",
      "QTALVELLKHKPK\n",
      "HKPKATEEQLK\n",
      "ATEEQLKTVMENFVAFVDK\n",
      "TVMENFVAFVDKCCAADDK\n",
      "CCAADDKEACFAVEGPK\n",
      "EACFAVEGPKLVVSTQTALA\n",
      "MKWVTFISLLLLFSSAYSRGVFR\n",
      "WVTFISLLLLFSSAYSRGVFRR\n",
      "GVFRRDTHK\n",
      "RDTHKSEIAHR\n",
      "DTHKSEIAHRFK\n",
      "SEIAHRFKDLGEEHFK\n",
      "FKDLGEEHFKGLVLIAFSQYLQQCPFDEHVK\n",
      "DLGEEHFKGLVLIAFSQYLQQCPFDEHVKLVNELTEFAK\n",
      "LVNELTEFAKTCVADESHAGCEKSLHTLFGDELCK\n",
      "TCVADESHAGCEKSLHTLFGDELCKVASLR\n",
      "SLHTLFGDELCKVASLRETYGDMADCCEK\n",
      "VASLRETYGDMADCCEKQEPER\n",
      "ETYGDMADCCEKQEPERNECFLSHK\n",
      "QEPERNECFLSHKDDSPDLPK\n",
      "NECFLSHKDDSPDLPKLKPDPNTLCDEFK\n",
      "DDSPDLPKLKPDPNTLCDEFKADEK\n",
      "LKPDPNTLCDEFKADEKK\n",
      "ADEKKFWGK\n",
      "KFWGKYLYEIAR\n",
      "FWGKYLYEIARR\n",
      "YLYEIARRHPYFYAPELLYYANK\n",
      "RHPYFYAPELLYYANKYNGVFQECCQAEDK\n",
      "HPYFYAPELLYYANKYNGVFQECCQAEDKGACLLPK\n",
      "YNGVFQECCQAEDKGACLLPKIETMR\n",
      "GACLLPKIETMREK\n",
      "IETMREKVLASSAR\n",
      "EKVLASSARQR\n",
      "VLASSARQRLR\n",
      "QRLRCASIQK\n",
      "LRCASIQKFGER\n",
      "CASIQKFGERALK\n",
      "FGERALKAWSVAR\n",
      "ALKAWSVARLSQK\n",
      "AWSVARLSQKFPK\n",
      "LSQKFPKAEFVEVTK\n",
      "FPKAEFVEVTKLVTDLTK\n",
      "AEFVEVTKLVTDLTKVHK\n",
      "LVTDLTKVHKECCHGDLLECADDR\n",
      "VHKECCHGDLLECADDRADLAK\n",
      "ECCHGDLLECADDRADLAKYICDNQDTISSK\n",
      "ADLAKYICDNQDTISSKLK\n",
      "YICDNQDTISSKLKECCDKPLLEK\n",
      "LKECCDKPLLEKSHCIAEVEK\n",
      "ECCDKPLLEKSHCIAEVEKDAIPENLPPLTADFAEDK\n",
      "SHCIAEVEKDAIPENLPPLTADFAEDKDVCK\n",
      "DAIPENLPPLTADFAEDKDVCKNYQEAK\n",
      "DVCKNYQEAKDAFLGSFLYEYSR\n",
      "NYQEAKDAFLGSFLYEYSRR\n",
      "DAFLGSFLYEYSRRHPEYAVSVLLR\n",
      "RHPEYAVSVLLRLAK\n",
      "HPEYAVSVLLRLAKEYEATLEECCAK\n",
      "LAKEYEATLEECCAKDDPHACYSTVFDK\n",
      "EYEATLEECCAKDDPHACYSTVFDKLK\n",
      "DDPHACYSTVFDKLKHLVDEPQNLIK\n",
      "LKHLVDEPQNLIKQNCDQFEK\n",
      "HLVDEPQNLIKQNCDQFEKLGEYGFQNALIVR\n",
      "QNCDQFEKLGEYGFQNALIVRYTR\n",
      "LGEYGFQNALIVRYTRK\n",
      "YTRKVPQVSTPTLVEVSR\n",
      "KVPQVSTPTLVEVSRSLGK\n",
      "VPQVSTPTLVEVSRSLGKVGTR\n",
      "SLGKVGTRCCTKPESER\n",
      "VGTRCCTKPESERMPCTEDYLSLILNR\n",
      "CCTKPESERMPCTEDYLSLILNRLCVLHEK\n",
      "MPCTEDYLSLILNRLCVLHEKTPVSEK\n",
      "LCVLHEKTPVSEKVTK\n",
      "TPVSEKVTKCCTESLVNR\n",
      "VTKCCTESLVNRRPCFSALTPDETYVPK\n",
      "CCTESLVNRRPCFSALTPDETYVPKAFDEK\n",
      "RPCFSALTPDETYVPKAFDEKLFTFHADICTLPDTEK\n",
      "AFDEKLFTFHADICTLPDTEKQIK\n",
      "LFTFHADICTLPDTEKQIKK\n",
      "QIKKQTALVELLK\n",
      "KQTALVELLKHKPK\n",
      "QTALVELLKHKPKATEEQLK\n",
      "HKPKATEEQLKTVMENFVAFVDK\n",
      "ATEEQLKTVMENFVAFVDKCCAADDK\n",
      "TVMENFVAFVDKCCAADDKEACFAVEGPK\n",
      "CCAADDKEACFAVEGPKLVVSTQTALA\n"
     ]
    }
   ],
   "source": [
    "# Allow two missed cleavages\n",
    "dig.setMissedCleavages(2)\n",
    "# only create peptides of length 7-40\n",
    "dig.digest(bsa, result, 7, 40)\n",
    "# print the results\n",
    "for s in result:\n",
    "    print(s.toString())"
   ]
  },
  {
   "cell_type": "code",
   "execution_count": 4,
   "metadata": {},
   "outputs": [
    {
     "data": {
      "text/plain": [
       "'(?<=[KX])(?!P)'"
      ]
     },
     "execution_count": 4,
     "metadata": {},
     "output_type": "execute_result"
    }
   ],
   "source": [
    "names = []\n",
    "ProteaseDB().getAllNames(names)\n",
    "len(names) # at least 25 by default\n",
    "e = ProteaseDB().getEnzyme('Lys-C')\n",
    "e.getRegExDescription()\n",
    "e.getRegEx()"
   ]
  },
  {
   "cell_type": "code",
   "execution_count": 5,
   "metadata": {},
   "outputs": [
    {
     "name": "stdout",
     "output_type": "stream",
     "text": [
      "GLVLIAFSQYLQQCPFDEHVK\n"
     ]
    },
    {
     "data": {
      "text/plain": [
       "57"
      ]
     },
     "execution_count": 5,
     "metadata": {},
     "output_type": "execute_result"
    }
   ],
   "source": [
    "from urllib.request import urlretrieve\n",
    "gh = \"https://raw.githubusercontent.com/OpenMS/pyopenms-extra/master\"\n",
    "urlretrieve (gh + \"/src/data/P02769.fasta\", \"bsa.fasta\")\n",
    "\n",
    "dig = ProteaseDigestion()\n",
    "dig.setEnzyme('Lys-C')\n",
    "bsa = \"\".join([l.strip() for l in open(\"bsa.fasta\").readlines()[1:]])\n",
    "bsa = AASequence.fromString(bsa)\n",
    "result = []\n",
    "dig.digest(bsa, result)\n",
    "print(result[4].toString())\n",
    "len(result) # 57 peptides"
   ]
  },
  {
   "cell_type": "code",
   "execution_count": 6,
   "metadata": {},
   "outputs": [
    {
     "data": {
      "text/plain": [
       "'p'"
      ]
     },
     "execution_count": 6,
     "metadata": {},
     "output_type": "execute_result"
    }
   ],
   "source": [
    "db = RNaseDB()\n",
    "names = []\n",
    "db.getAllNames(names)\n",
    "names\n",
    "# Will print out all available enzymes:\n",
    "# ['RNase_U2', 'RNase_T1', 'RNase_H', 'unspecific cleavage', 'no cleavage', 'RNase_MC1', 'RNase_A', 'cusativin']\n",
    "e = db.getEnzyme(\"RNase_T1\")\n",
    "e.getRegEx()\n",
    "e.getThreePrimeGain()"
   ]
  },
  {
   "cell_type": "code",
   "execution_count": 7,
   "metadata": {},
   "outputs": [
    {
     "name": "stdout",
     "output_type": "stream",
     "text": [
      "pAUGp\n",
      "UCGp\n",
      "CAG\n",
      "Looking closer at pAUGp\n",
      " Five Prime modification: 5'-p\n",
      " Three Prime modification: 3'-p\n",
      "A 267.0968 False\n",
      "U 244.0695 False\n",
      "G 283.0917 False\n"
     ]
    }
   ],
   "source": [
    "oligo = NASequence.fromString(\"pAUGUCGCAG\");\n",
    "\n",
    "dig = RNaseDigestion()\n",
    "dig.setEnzyme(\"RNase_T1\")\n",
    "\n",
    "result = []\n",
    "dig.digest(oligo, result)\n",
    "for fragment in result:\n",
    "  print (fragment)\n",
    "\n",
    "print(\"Looking closer at\", result[0])\n",
    "print(\" Five Prime modification:\", result[0].getFivePrimeMod().getCode())\n",
    "print(\" Three Prime modification:\", result[0].getThreePrimeMod().getCode())\n",
    "for ribo in result[0]:\n",
    "  print (ribo.getCode(), ribo.getMonoMass(), ribo.isModified())"
   ]
  },
  {
   "cell_type": "code",
   "execution_count": null,
   "metadata": {},
   "outputs": [],
   "source": []
  }
 ],
 "metadata": {
  "kernelspec": {
   "display_name": "Python 3",
   "language": "python",
   "name": "python3"
  },
  "language_info": {
   "codemirror_mode": {
    "name": "ipython",
    "version": 3
   },
   "file_extension": ".py",
   "mimetype": "text/x-python",
   "name": "python",
   "nbconvert_exporter": "python",
   "pygments_lexer": "ipython3",
   "version": "3.7.4"
  }
 },
 "nbformat": 4,
 "nbformat_minor": 2
}
